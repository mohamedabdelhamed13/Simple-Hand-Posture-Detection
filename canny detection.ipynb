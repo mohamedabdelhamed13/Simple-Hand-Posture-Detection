{
 "cells": [
  {
   "cell_type": "markdown",
   "metadata": {},
   "source": [
    "### Import library"
   ]
  },
  {
   "cell_type": "code",
   "execution_count": 1,
   "metadata": {},
   "outputs": [],
   "source": [
    "import cv2 as cv\n",
    "import numpy as np \n",
    "from matplotlib import pyplot as plt"
   ]
  },
  {
   "cell_type": "markdown",
   "metadata": {},
   "source": [
    "### GaussianMask"
   ]
  },
  {
   "cell_type": "code",
   "execution_count": 2,
   "metadata": {},
   "outputs": [],
   "source": [
    "def gaussianMask(size, sigma=1):\n",
    "    size = int(size) // 2\n",
    "    x, y = np.mgrid[-size:size+1, -size:size+1]\n",
    "    normal = 1 / (2.0 * np.pi * sigma**2)\n",
    "    g =  np.exp(-((x**2 + y**2) / (2.0*sigma**2))) * normal\n",
    "    g /= np.sum(g)\n",
    "    return g\n",
    "    "
   ]
  },
  {
   "cell_type": "markdown",
   "metadata": {},
   "source": [
    "### convolving"
   ]
  },
  {
   "cell_type": "code",
   "execution_count": 3,
   "metadata": {},
   "outputs": [],
   "source": [
    "def convolute(image, kernel):\n",
    "    pad=len(kernel)//2\n",
    "    h=len(image)+2*pad\n",
    "    w=len(image[0])+2*pad\n",
    "\n",
    "    padimg=np.pad(image,pad)\n",
    "    output = np.zeros([h-2*pad, w-2*pad])\n",
    "    for x in range(pad,h-pad):\n",
    "        for y in range(pad,w-pad):\n",
    "            k = padimg[x-pad:x+pad+1, y-pad:y+pad+1]\n",
    "            output[x-pad][y-pad]=np.sum(k*kernel)\n",
    "\n",
    "    return output"
   ]
  },
  {
   "cell_type": "markdown",
   "metadata": {},
   "source": [
    "### Sobel"
   ]
  },
  {
   "cell_type": "code",
   "execution_count": 4,
   "metadata": {},
   "outputs": [],
   "source": [
    "def sobel(image):\n",
    "    \n",
    "    Kx = np.array([[-1, 0, 1], [-2, 0, 2], [-1, 0, 1]], np.float32)\n",
    "    Ky = np.array([[-1, -2, -1], [0, 0, 0], [1, 2, 1]], np.float32)\n",
    "    Gx = convolute(image, Kx)\n",
    "    Gy = convolute(image, Ky)\n",
    "    \n",
    "    G = np.sqrt(np.square(Gx) + np.square(Gy))\n",
    "    \n",
    "    G = G * image.max() / G.max()\n",
    "    \n",
    "    angles = np.arctan2(Gy, Gx) * 180 / np.pi\n",
    "\n",
    "    G = G\n",
    "    return (G, angles)"
   ]
  },
  {
   "cell_type": "markdown",
   "metadata": {},
   "source": [
    "### prewitt"
   ]
  },
  {
   "cell_type": "code",
   "execution_count": 5,
   "metadata": {},
   "outputs": [],
   "source": [
    "def prewitt(image):\n",
    "    Kx = [[-1, 0, 1], [-1, 0, 1], [-1, 0, 1]]\n",
    "    Ky = [[-1, -1, -1], [0, 0, 0], [1, 1, 1]]\n",
    "    Gx = convolute(image, Kx)\n",
    "    Gy = convolute(image, Ky)\n",
    "    \n",
    "    \n",
    "    G = np.hypot(Gx, Gy)\n",
    "    \n",
    "    m = G.max()\n",
    "    G *= image.max() / m\n",
    "    \n",
    "    cv.imshow('prewitt', G)\n",
    "    cv.waitKey(0)\n",
    "    \n",
    "    return G"
   ]
  },
  {
   "cell_type": "markdown",
   "metadata": {},
   "source": [
    "### nonMaximaSuppression"
   ]
  },
  {
   "cell_type": "code",
   "execution_count": 6,
   "metadata": {},
   "outputs": [],
   "source": [
    "def nonMaximaSuppression(mag, angle):\n",
    "    M, N = mag.shape\n",
    "    Non_max = np.zeros((M,N))\n",
    "\n",
    "    for i in range(1,M-1):\n",
    "        for j in range(1,N-1):\n",
    "            # Horizontal = 0\n",
    "            if (0 <= angle[i,j] < 22.5) or (157.5 <= angle[i,j] <= 180) or (-22.5 <= angle[i,j] < 0) or (-180 <= angle[i,j] < -157.5):\n",
    "                b = mag[i, j+1]\n",
    "                c = mag[i, j-1]\n",
    "            # Diagonal = 45\n",
    "            elif (22.5 <= angle[i,j] < 67.5) or (-157.5 <= angle[i,j] < -112.5):\n",
    "                b = mag[i+1, j+1]\n",
    "                c = mag[i-1, j-1]\n",
    "            # Vertical = 90\n",
    "            elif (67.5 <= angle[i,j] < 112.5) or (-112.5 <= angle[i,j] < -67.5):\n",
    "                b = mag[i+1, j]\n",
    "                c = mag[i-1, j]\n",
    "            # Diagonal 135\n",
    "            elif (112.5 <= angle[i,j] < 157.5) or (-67.5 <= angle[i,j] < -22.5):\n",
    "                b = mag[i+1, j-1]\n",
    "                c = mag[i-1, j+1]           \n",
    "                \n",
    "            # Non-max Suppression\n",
    "            if (mag[i,j] >= b) and (mag[i,j] >= c):\n",
    "                Non_max[i,j] = mag[i,j]\n",
    "            else:\n",
    "                Non_max[i,j] = 0\n",
    "    return Non_max"
   ]
  },
  {
   "cell_type": "markdown",
   "metadata": {},
   "source": [
    "### Threshold"
   ]
  },
  {
   "cell_type": "code",
   "execution_count": 7,
   "metadata": {},
   "outputs": [],
   "source": [
    "def Threshold(image, low=0.05, high=0.20):\n",
    "    img = image.copy()\n",
    "    low = img.max() * low\n",
    "    high = img.max() * high\n",
    "    rows, cols = image.shape\n",
    "    for i in range(rows):\n",
    "        for j in range(cols):\n",
    "            pixel = image[i][j]\n",
    "            if(pixel >= high): pixel = 255\n",
    "            elif (pixel <= low): pixel = 0\n",
    "            else: pixel = 128\n",
    "            img[i][j] = pixel\n",
    "    return img"
   ]
  },
  {
   "cell_type": "markdown",
   "metadata": {},
   "source": [
    "### edgeLinking"
   ]
  },
  {
   "cell_type": "code",
   "execution_count": 8,
   "metadata": {},
   "outputs": [],
   "source": [
    "def edgeLinking(image):\n",
    "    img = image.copy()\n",
    "    rows, cols = img.shape\n",
    "    for row in range(1, rows-1):\n",
    "        for col in range(1, cols-1):\n",
    "            pixel = img[row][col]\n",
    "            if(pixel > 127 and pixel < 129):\n",
    "                if (image[row][col+1] >= 129): pixel = 255\n",
    "                elif (image[row-1][col+1] >= 129): pixel = 255\n",
    "                elif (image[row+1][col+1] >= 129): pixel = 255\n",
    "                \n",
    "                elif (image[row-1][col] >= 129): pixel = 255\n",
    "                elif (image[row+1][col] >= 129): pixel = 255\n",
    "                \n",
    "                elif (image[row-1][col-1] >= 129): pixel = 255\n",
    "                elif (image[row+1][col-1] >= 129): pixel = 255\n",
    "                elif (image[row][col-1] >= 129): pixel = 255\n",
    "                else: pixel = 0\n",
    "                \n",
    "                img[row][col] = pixel\n",
    "    return img\n"
   ]
  },
  {
   "cell_type": "markdown",
   "metadata": {},
   "source": [
    "### Canny"
   ]
  },
  {
   "cell_type": "code",
   "execution_count": 9,
   "metadata": {},
   "outputs": [],
   "source": [
    "def canny(image):\n",
    "    \n",
    "    img = image.copy()\n",
    "    img = convolute(img, gaussianMask(3))\n",
    "    img, angles = sobel(img)\n",
    "    img = nonMaximaSuppression(img, angles)\n",
    "    img = Threshold(img)\n",
    "    img = edgeLinking(img)\n",
    "    \n",
    "    return img"
   ]
  },
  {
   "cell_type": "markdown",
   "metadata": {},
   "source": [
    "### the main code"
   ]
  },
  {
   "cell_type": "code",
   "execution_count": 10,
   "metadata": {},
   "outputs": [
    {
     "data": {
      "image/png": "[encoded data removed]",
      "text/plain": [
       "<Figure size 432x288 with 3 Axes>"
      ]
     },
     "metadata": {},
     "output_type": "display_data"
    }
   ],
   "source": [
    "# Read the image\n",
    "img0 = cv.imread('C:\\\\Users\\\\moham\\\\OneDrive\\\\Desktop\\\\test.jpg')\n",
    "# Convert to gray scale (BGR2GRAY)\n",
    "img = cv.cvtColor(img0, cv.COLOR_BGR2GRAY)\n",
    "\n",
    "#the canny\n",
    "img2=canny(img)\n",
    "#the prewitt\n",
    "#prewitt(img)\n",
    "\n",
    "titles = ['Original Image','gray scale','image edge extraction']\n",
    "images = [img0,img, img2]\n",
    "for i in range(3):\n",
    "    plt.subplot(1,3,i+1),plt.imshow(images[i],'gray',vmin=0,vmax=255)\n",
    "    plt.title(titles[i])\n",
    "    plt.xticks([]),plt.yticks([])\n",
    "plt.show()"
   ]
  },
  {
   "cell_type": "code",
   "execution_count": null,
   "metadata": {},
   "outputs": [],
   "source": []
  }
 ],
 "metadata": {
  "interpreter": {
   "hash": "ad2bdc8ecc057115af97d19610ffacc2b4e99fae6737bb82f5d7fb13d2f2c186"
  },
  "kernelspec": {
   "display_name": "Python 3 (ipykernel)",
   "language": "python",
   "name": "python3"
  },
  "language_info": {
   "codemirror_mode": {
    "name": "ipython",
    "version": 3
   },
   "file_extension": ".py",
   "mimetype": "text/x-python",
   "name": "python",
   "nbconvert_exporter": "python",
   "pygments_lexer": "ipython3",
   "version": "3.9.7"
  }
 },
 "nbformat": 4,
 "nbformat_minor": 2
}
